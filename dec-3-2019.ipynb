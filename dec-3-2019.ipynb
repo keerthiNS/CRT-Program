{
 "cells": [
  {
   "cell_type": "code",
   "execution_count": null,
   "metadata": {},
   "outputs": [],
   "source": [
    "##insert an image\n",
    "![text](https://media.wired.com/photos/5d3b6817d18f7c00094eccd6/4:3/w_3599,h_2699,c_limit/01_SPoW_072719.jpg)"
   ]
  },
  {
   "cell_type": "markdown",
   "metadata": {},
   "source": [
    "##insert an image\n",
    "![text](https://media.wired.com/photos/5d3b6817d18f7c00094eccd6/4:3/w_3599,h_2699,c_limit/01_SPoW_072719.jpg)"
   ]
  },
  {
   "cell_type": "markdown",
   "metadata": {},
   "source": [
    "##isert a site\n",
    "[site](https://www.google.com)"
   ]
  },
  {
   "cell_type": "markdown",
   "metadata": {},
   "source": [
    "### for ordered list :\n",
    "1.ABC\n",
    "2.DEF\n",
    "  A.abc\n",
    "  B.gef"
   ]
  },
  {
   "cell_type": "markdown",
   "metadata": {},
   "source": [
    "### for unordered lsit:\n",
    "abc<br>\n",
    "def<br>\n",
    "   hij<br>\n",
    "   lmn<br>\n",
    "opq<br>"
   ]
  },
  {
   "cell_type": "markdown",
   "metadata": {},
   "source": [
    "### for bold and italics\n",
    "**gitam**<br>\n",
    "*gitam*\n"
   ]
  },
  {
   "cell_type": "code",
   "execution_count": null,
   "metadata": {},
   "outputs": [],
   "source": []
  }
 ],
 "metadata": {
  "kernelspec": {
   "display_name": "Python 3",
   "language": "python",
   "name": "python3"
  },
  "language_info": {
   "codemirror_mode": {
    "name": "ipython",
    "version": 3
   },
   "file_extension": ".py",
   "mimetype": "text/x-python",
   "name": "python",
   "nbconvert_exporter": "python",
   "pygments_lexer": "ipython3",
   "version": "3.7.3"
  }
 },
 "nbformat": 4,
 "nbformat_minor": 2
}
