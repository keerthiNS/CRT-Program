{
 "cells": [
  {
   "cell_type": "code",
   "execution_count": 50,
   "metadata": {},
   "outputs": [
    {
     "name": "stdout",
     "output_type": "stream",
     "text": [
      "25\n",
      "1\n",
      "56\n",
      "11\n",
      "[1, 9, 16, 25, 5, 29]\n",
      "[1, 9, 56, 16, 25, 5, 29]\n",
      "1\n",
      "2\n",
      "[1, 5, 9, 16, 25, 29, 56]\n",
      "[1, 5, 9, 16, 25, 29]\n",
      "[1, 9, 16, 25, 29]\n",
      "[1, 9, 16, 25, 29, 1, 2, 3, 4]\n",
      "[4, 3, 2, 1]\n",
      "[1, 9, 16, 25, 29, 1, 2, 3, 4]\n",
      "[1, 1, 2, 3, 4, 9, 16, 25, 29]\n"
     ]
    }
   ],
   "source": [
    "##markdown\n",
    "\n",
    "li = [1,9,16,25,5]\n",
    "print(max(li))   # prints the element with max value\n",
    "print(min(li))   # prints the element with max value\n",
    "print(sum(li))   # prints the sum of elements \n",
    "print(sum(li)//len(li))  #prints the avg of the elements\n",
    "li.append(29)    # adds elemnt(s) in the last of list\n",
    "print(li)\n",
    "li.insert(2,56)  # adds value in that particular index/address i.e. it adds 56 in address 2\n",
    "print(li)\n",
    "print(li.count(9)) # counts how many elements to that value are present, here there is 1 nine.\n",
    "print(li.index(56)) # tells the index/address of 56\n",
    "li.sort()   # prints in ascending order\n",
    "print(li) \n",
    "li.pop()    # removes the last elememt\n",
    "print(li)\n",
    "li.pop(1) # removes the element in index 1\n",
    "print(li)\n",
    "li1=[1,2,3,4]\n",
    "li.extend(li1) #elemnts of li1 will get added in the end of li\n",
    "li\n",
    "print(li)\n",
    "li1.reverse() # reverses the list\n",
    "print(li1)\n",
    "print(li)\n",
    "li.sort()\n",
    "print(li)\n"
   ]
  },
  {
   "cell_type": "code",
   "execution_count": 48,
   "metadata": {},
   "outputs": [
    {
     "name": "stdout",
     "output_type": "stream",
     "text": [
      "16\n",
      "3\n"
     ]
    }
   ],
   "source": [
    "def largenumber(li):\n",
    "    li.sort()\n",
    "    return li[-3]\n",
    "def genericlarge(li,n):\n",
    "    li.sort()\n",
    "    return li[-n]\n",
    "print(largenumber(li))\n",
    "print(genericlarge(li,6))"
   ]
  },
  {
   "cell_type": "code",
   "execution_count": 60,
   "metadata": {},
   "outputs": [
    {
     "name": "stdout",
     "output_type": "stream",
     "text": [
      "1\n",
      "9\n"
     ]
    }
   ],
   "source": [
    "def smallnumber(li):\n",
    "    li.sort()\n",
    "    return li[0]\n",
    "def genericsmall(li,n):\n",
    "    li.sort()\n",
    "    return li[n-1]\n",
    "print (smallnumber(li))\n",
    "print(genericsmall(li,6))"
   ]
  },
  {
   "cell_type": "markdown",
   "metadata": {},
   "source": [
    "## Tuple:\n",
    "1.paranthesis \"( )\" for tuple, while \"[ ]\" is for list. <br>\n",
    "2.difference between list and tuple:\n",
    "     - lists are mutable (modified) and  are used to access and modify,add,delete data.\n",
    "     - Tuples  are immutable,used to access data.\n",
    "     "
   ]
  },
  {
   "cell_type": "code",
   "execution_count": 64,
   "metadata": {},
   "outputs": [
    {
     "name": "stdout",
     "output_type": "stream",
     "text": [
      "(16, 43, 82, 3, 9, 2, 0, 27, 3, 8)\n"
     ]
    }
   ],
   "source": [
    "tup=(16,43,82,3,9,2,0,27,3,8)\n",
    "print(tup)"
   ]
  },
  {
   "cell_type": "markdown",
   "metadata": {},
   "source": [
    "## Dictionary:\n",
    "1.It works on the concept of set unique data.<br>\n",
    "2.Keys,values is the unique identifier for the value.<br>\n",
    "3.Each key is seperated from its values with \":\".<br>\n",
    "4.Each key and value are seperated with \",\".<br>\n",
    "5.Dictionaries enhanced with \"{ }\"."
   ]
  },
  {
   "cell_type": "code",
   "execution_count": 67,
   "metadata": {},
   "outputs": [
    {
     "data": {
      "text/plain": [
       "{'name': 'gitam', 'email_id': 'gitam@gmail.com', 'address': 'hyd'}"
      ]
     },
     "execution_count": 67,
     "metadata": {},
     "output_type": "execute_result"
    }
   ],
   "source": [
    "d1={\"name\":\"gitam\",\"email_id\":\"gitam@gmail.com\",\"address\":\"hyd\"}\n",
    "d1"
   ]
  },
  {
   "cell_type": "code",
   "execution_count": 68,
   "metadata": {},
   "outputs": [
    {
     "data": {
      "text/plain": [
       "'gitam'"
      ]
     },
     "execution_count": 68,
     "metadata": {},
     "output_type": "execute_result"
    }
   ],
   "source": [
    "d1[\"name\"]"
   ]
  },
  {
   "cell_type": "code",
   "execution_count": 71,
   "metadata": {},
   "outputs": [
    {
     "data": {
      "text/plain": [
       "{'name': 'gitam', 'email_id': 'abc_xyz@gitam.edu', 'address': 'hyd'}"
      ]
     },
     "execution_count": 71,
     "metadata": {},
     "output_type": "execute_result"
    }
   ],
   "source": [
    "d1[\"email_id\"]=\"abc_xyz@gitam.edu\" #upadating data\n",
    "d1"
   ]
  },
  {
   "cell_type": "code",
   "execution_count": 73,
   "metadata": {},
   "outputs": [
    {
     "data": {
      "text/plain": [
       "{'name': 'gitam',\n",
       " 'email_id': 'abc_xyz@gitam.edu',\n",
       " 'address': 'hyd',\n",
       " 'course': 'python'}"
      ]
     },
     "execution_count": 73,
     "metadata": {},
     "output_type": "execute_result"
    }
   ],
   "source": [
    "d1[\"course\"]=\"python\" #adding information\n",
    "d1"
   ]
  },
  {
   "cell_type": "code",
   "execution_count": 82,
   "metadata": {},
   "outputs": [
    {
     "ename": "SyntaxError",
     "evalue": "can't delete function call (<ipython-input-82-70ada041c968>, line 2)",
     "output_type": "error",
     "traceback": [
      "\u001b[1;36m  File \u001b[1;32m\"<ipython-input-82-70ada041c968>\"\u001b[1;36m, line \u001b[1;32m2\u001b[0m\n\u001b[1;33m    del d1(\"email_id\")\u001b[0m\n\u001b[1;37m       ^\u001b[0m\n\u001b[1;31mSyntaxError\u001b[0m\u001b[1;31m:\u001b[0m can't delete function call\n"
     ]
    }
   ],
   "source": [
    "\n",
    "del d1(\"email_id\")\n",
    "d1\n"
   ]
  },
  {
   "cell_type": "code",
   "execution_count": 85,
   "metadata": {},
   "outputs": [
    {
     "data": {
      "text/plain": [
       "dict_values(['gitam', 'hyd', 'python'])"
      ]
     },
     "execution_count": 85,
     "metadata": {},
     "output_type": "execute_result"
    }
   ],
   "source": [
    "d1.values() # prints values"
   ]
  },
  {
   "cell_type": "code",
   "execution_count": 83,
   "metadata": {},
   "outputs": [
    {
     "data": {
      "text/plain": [
       "dict_keys(['name', 'address', 'course'])"
      ]
     },
     "execution_count": 83,
     "metadata": {},
     "output_type": "execute_result"
    }
   ],
   "source": [
    "d1.keys() # prints keys"
   ]
  },
  {
   "cell_type": "code",
   "execution_count": 84,
   "metadata": {},
   "outputs": [
    {
     "data": {
      "text/plain": [
       "dict_items([('name', 'gitam'), ('address', 'hyd'), ('course', 'python')])"
      ]
     },
     "execution_count": 84,
     "metadata": {},
     "output_type": "execute_result"
    }
   ],
   "source": [
    "d1.items() #the list of tupes of keys and values"
   ]
  },
  {
   "cell_type": "markdown",
   "metadata": {},
   "source": [
    "## Strings:\n",
    "1. Strings\n",
    "2. String Slicing\n",
    "3. Fundamental programming with strings in python"
   ]
  },
  {
   "cell_type": "code",
   "execution_count": 112,
   "metadata": {},
   "outputs": [
    {
     "name": "stdout",
     "output_type": "stream",
     "text": [
      "python\n",
      "<class 'str'>\n",
      "p\n",
      "y\n",
      "t\n",
      "6\n",
      "h\n",
      "n\n",
      "py\n",
      "python\n",
      "pytho\n",
      "ytho\n",
      "\n",
      "\n",
      "\n",
      "h\n",
      "pto\n",
      "nhy\n"
     ]
    }
   ],
   "source": [
    "s1=\"python\"\n",
    "print(s1)\n",
    "print(type(s1))\n",
    "print(s1[0])\n",
    "print(s1[1])\n",
    "print(s1[2])\n",
    "print (len(s1))\n",
    "print(s1[len(s1)-3])\n",
    "print(s1[-1])\n",
    "print(s1[0:2])\n",
    "print(s1[-6:])\n",
    "print(s1[:-1])\n",
    "print(s1[1:-1])\n",
    "print(s1[-1:-3])\n",
    "print(s1[-3:1])\n",
    "print(s1[-1:-3:1])\n",
    "print(s1[len(s1)//2])\n",
    "print(s1[::2]) #skip 1 from 0\n",
    "print(s1[::-2]) #skip 1 from -1\n"
   ]
  },
  {
   "cell_type": "code",
   "execution_count": 113,
   "metadata": {},
   "outputs": [
    {
     "data": {
      "text/plain": [
       "'nohtyp'"
      ]
     },
     "execution_count": 113,
     "metadata": {},
     "output_type": "execute_result"
    }
   ],
   "source": [
    "# reverse of a string\n",
    "def reverse(str):\n",
    "    return str[-1::-1]\n",
    "reverse(\"python\")"
   ]
  },
  {
   "cell_type": "code",
   "execution_count": 119,
   "metadata": {},
   "outputs": [
    {
     "name": "stdout",
     "output_type": "stream",
     "text": [
      "False\n",
      "True\n"
     ]
    }
   ],
   "source": [
    "#palindrome\n",
    "\n",
    "def palindrome(str):\n",
    "    if str==str[-1::-1]:\n",
    "        return True\n",
    "    else:\n",
    "        return False\n",
    "print(palindrome(\"python\"))\n",
    "print(palindrome(\"abcba\"))"
   ]
  },
  {
   "cell_type": "markdown",
   "metadata": {},
   "source": [
    "### String Built-in methods:\n",
    "1. upper()  (will convert into upper case)<br>\n",
    "2. lower()  (will convert into upper case)"
   ]
  },
  {
   "cell_type": "code",
   "execution_count": 120,
   "metadata": {},
   "outputs": [
    {
     "name": "stdout",
     "output_type": "stream",
     "text": [
      "PYTHON\n",
      "python\n"
     ]
    }
   ],
   "source": [
    "s1=\"python\"\n",
    "print(s1.upper())\n",
    "print(s1.lower())"
   ]
  },
  {
   "cell_type": "markdown",
   "metadata": {},
   "source": [
    "### String boolean Built-in meathods:\n",
    "1. islower() <br>\n",
    "2. isupper() <br>\n",
    "3. istitle() <br>\n",
    "4. isnumeric() <br>\n",
    "5. isalpha() <br>\n",
    "6. isspace() "
   ]
  },
  {
   "cell_type": "code",
   "execution_count": 132,
   "metadata": {},
   "outputs": [
    {
     "name": "stdout",
     "output_type": "stream",
     "text": [
      "False\n",
      "True\n",
      "False\n",
      "False\n",
      "True\n",
      "False\n",
      "         \n",
      "True\n",
      "A 2 3 4 a b c \n",
      "False\n",
      "False\n",
      "False\n",
      "False\n"
     ]
    }
   ],
   "source": [
    "s1=\"python\"\n",
    "print(s1.isupper())\n",
    "print(s1.islower())\n",
    "print(s1.istitle())\n",
    "print(s1.isnumeric())\n",
    "print(s1.isalpha())\n",
    "print(s1.isspace())\n",
    "print(s)\n",
    "s=\"         \"\n",
    "print(s.isspace())\n",
    "\n",
    "s2=\"A 2 3 4 a b c \"\n",
    "print(s2)\n",
    "print(s2.istitle())\n",
    "print(s2.isnumeric())\n",
    "print(s2.isalpha())\n",
    "print(s2.isspace())"
   ]
  },
  {
   "cell_type": "markdown",
   "metadata": {},
   "source": [
    "## String methods:\n",
    "- join() -- contactination\n",
    "- split() -- split() returns the a list of strings separted by whitespace\n",
    "- replace() -- replaces the specific word/character with new word/character"
   ]
  },
  {
   "cell_type": "code",
   "execution_count": 133,
   "metadata": {},
   "outputs": [
    {
     "name": "stdout",
     "output_type": "stream",
     "text": [
      "p y t h o n\n",
      "p,y,t,h,o,n\n"
     ]
    }
   ],
   "source": [
    "s1 = 'python'\n",
    "print(\" \".join(s1))\n",
    "print(\",\".join(s1))"
   ]
  },
  {
   "cell_type": "code",
   "execution_count": 135,
   "metadata": {},
   "outputs": [
    {
     "name": "stdout",
     "output_type": "stream",
     "text": [
      "['p', 'y', 't', 'h', 'o', 'n', ' ', 'p', 'r', 'o', 'g', 'r', 'a', 'm', 'm', 'i', 'n', 'g', ' ', 'e', 'a', 's', 'y', ' ', 't', 'o', ' ', 'l', 'e', 'a', 'r', 'n']\n",
      "python proApplicationmming easy to learn\n"
     ]
    }
   ],
   "source": [
    "s2= \"python programming easy to learn\"\n",
    "li=list(s2)\n",
    "print(li)\n",
    "print(s2.replace(\"gra\",\"Application\"))"
   ]
  },
  {
   "cell_type": "code",
   "execution_count": 136,
   "metadata": {},
   "outputs": [
    {
     "name": "stdout",
     "output_type": "stream",
     "text": [
      "p,y,t,h,o,n, ,p,r,o,g,r,a,m,m,i,n,g, ,i,s, ,e,a,s,y, ,t,o, ,l,e,a,r,n\n"
     ]
    }
   ],
   "source": [
    "s2=\"python programming is easy to learn\"\n",
    "print(\",\".join(s2))"
   ]
  },
  {
   "cell_type": "code",
   "execution_count": 137,
   "metadata": {},
   "outputs": [
    {
     "name": "stdout",
     "output_type": "stream",
     "text": [
      "python,programming,learn\n"
     ]
    }
   ],
   "source": [
    "li=[\"python\",\"programming\",\"learn\"]\n",
    "print(\",\".join(li))"
   ]
  },
  {
   "cell_type": "code",
   "execution_count": 138,
   "metadata": {},
   "outputs": [
    {
     "name": "stdout",
     "output_type": "stream",
     "text": [
      "['python progr', 'mming e', 'sy to le', 'rn']\n",
      "32\n",
      "['python', 'programming', 'easy', 'to', 'learn']\n",
      "5\n"
     ]
    }
   ],
   "source": [
    "s2=\"python programming easy to learn\"\n",
    "print(s2.split('a'))\n",
    "\n",
    "\n",
    "\n",
    "s2=\"python programming easy to learn\"\n",
    "print(len(s2))\n",
    "li=s2.split() #split\n",
    "li=s2.split()\n",
    "print(li)\n",
    "print(len(li))\n",
    "\n",
    "\n"
   ]
  },
  {
   "cell_type": "code",
   "execution_count": null,
   "metadata": {},
   "outputs": [],
   "source": []
  }
 ],
 "metadata": {
  "kernelspec": {
   "display_name": "Python 3",
   "language": "python",
   "name": "python3"
  },
  "language_info": {
   "codemirror_mode": {
    "name": "ipython",
    "version": 3
   },
   "file_extension": ".py",
   "mimetype": "text/x-python",
   "name": "python",
   "nbconvert_exporter": "python",
   "pygments_lexer": "ipython3",
   "version": "3.7.3"
  }
 },
 "nbformat": 4,
 "nbformat_minor": 2
}
